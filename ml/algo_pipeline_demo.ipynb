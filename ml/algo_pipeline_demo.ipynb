{
 "cells": [
  {
   "cell_type": "code",
   "execution_count": 6,
   "metadata": {},
   "outputs": [],
   "source": [
    "from model import DataManager\n",
    "from utils.utils import ModelBuilder"
   ]
  },
  {
   "cell_type": "code",
   "execution_count": 7,
   "metadata": {},
   "outputs": [
    {
     "output_type": "stream",
     "name": "stdout",
     "text": [
      "===| DataHandler |=== \n",
      "\n",
      "[1/2] Getting data... Done.\n",
      "[2/2] Merging data... Done.\n",
      "\n",
      "===| FeatureRecipe |=== \n",
      "\n",
      "[1/5] Separate variable types... Done.\n",
      "[2/5] Dropping useless features... Done.\n",
      "[3/5] Dropping duplicates... Done.\n",
      "[4/5] Dropping NaN columns according to thresold (0.3)... Done.\n",
      "[5/5] Dealing DateTime... Not Implemented\n",
      "\n",
      "• Variable types :\n",
      "- discreet : ['Unnamed: 0', 'listing_id', 'person_capacity', 'beds', 'bedrooms']\n",
      "- continues : ['latitude', 'longitude', 'bathrooms', 'pricing_weekly_factor', 'pricing_monthly_factor', 'local_price']\n",
      "- boolean : ['is_rebookable', 'is_new_listing', 'is_fully_refundable', 'is_host_highly_rated', 'is_business_travel_ready']\n",
      "- categorical : ['name', 'type', 'city', 'neighborhood']\n",
      "\n",
      "• Useless dropped columns (2 column(s)) : ['Unnamed: 0', 'Unnamed: 0']\n",
      "\n",
      "• Duplicated dropped columns (2 column(s)) : ['is_business_travel_ready', 'is_business_travel_ready']\n",
      "\n",
      "• Nan dropped columns by thresold (0 column(s) for a thresold of 0.3) : []\n",
      "\n",
      "• Deal DateTime : Not Implemented\n",
      "\n",
      "===| FeatureExtractor |=== \n",
      "\n",
      "[1/2] Dropping unused columns... Done.\n",
      "[2/2] Splitting data... Done.\n",
      "\n",
      "• Accuracy : 31.03053135260727%\n",
      "ModelBuilder(path: ., save: None, reg: LinearRegression())\n"
     ]
    }
   ],
   "source": [
    "X_train, X_test, y_train, y_test = DataManager()\n",
    "model_builder = ModelBuilder('.')\n",
    "model_builder.train(X_train, y_train)\n",
    "model_builder.print_accuracy(X_train, y_train)\n",
    "print(model_builder)\n",
    "model_builder.save_model()"
   ]
  },
  {
   "source": [
    "# Model Building"
   ],
   "cell_type": "markdown",
   "metadata": {}
  },
  {
   "source": [
    "L'algorithme choisi est l'algorithme de régression linéaire. Il permet de faire une prédiction à l'aide de variables prédictives.\n",
    "\n",
    "Le model semble être en underfitting (précision de 31.03%).\n",
    "\n",
    "Une piste d'amélioration possible serait d'essayer avec de nouvelles données."
   ],
   "cell_type": "markdown",
   "metadata": {}
  }
 ],
 "metadata": {
  "kernelspec": {
   "display_name": "Python 3",
   "language": "python",
   "name": "python3"
  },
  "language_info": {
   "codemirror_mode": {
    "name": "ipython",
    "version": 3
   },
   "file_extension": ".py",
   "mimetype": "text/x-python",
   "name": "python",
   "nbconvert_exporter": "python",
   "pygments_lexer": "ipython3",
   "version": "3.8.5-final"
  }
 },
 "nbformat": 4,
 "nbformat_minor": 4
}